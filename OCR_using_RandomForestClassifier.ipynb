{
  "nbformat": 4,
  "nbformat_minor": 0,
  "metadata": {
    "accelerator": "GPU",
    "colab": {
      "name": "OCR-using-RandomForestClassifier.ipynb",
      "provenance": [],
      "collapsed_sections": [],
      "machine_shape": "hm",
      "authorship_tag": "ABX9TyOQYpzwDsaJhXGl78sfejZe",
      "include_colab_link": true
    },
    "kernelspec": {
      "display_name": "Python 3",
      "name": "python3"
    },
    "language_info": {
      "name": "python"
    }
  },
  "cells": [
    {
      "cell_type": "markdown",
      "metadata": {
        "id": "view-in-github",
        "colab_type": "text"
      },
      "source": [
        "<a href=\"https://colab.research.google.com/github/anandababugudipudi/OCR-using-RandomForestClassifier/blob/main/OCR_using_RandomForestClassifier.ipynb\" target=\"_parent\"><img src=\"https://colab.research.google.com/assets/colab-badge.svg\" alt=\"Open In Colab\"/></a>"
      ]
    },
    {
      "cell_type": "markdown",
      "metadata": {
        "id": "cGGf4Mlc9VPf"
      },
      "source": [
        "### **Import necessary packages**"
      ]
    },
    {
      "cell_type": "code",
      "metadata": {
        "id": "Dx6n9ye28Hcb"
      },
      "source": [
        "import numpy as np\n",
        "import pandas as pd\n",
        "from sklearn.ensemble import RandomForestClassifier\n",
        "from sklearn.metrics import confusion_matrix, accuracy_score\n",
        "from sklearn.datasets import load_digits\n",
        "from sklearn.model_selection import train_test_split, GridSearchCV\n",
        "import pickle"
      ],
      "execution_count": null,
      "outputs": []
    },
    {
      "cell_type": "markdown",
      "metadata": {
        "id": "TBzYTenb9aTA"
      },
      "source": [
        "###**Load the IRIS dataset**"
      ]
    },
    {
      "cell_type": "code",
      "metadata": {
        "id": "X8Tnozlh9eHe"
      },
      "source": [
        "digits_data = load_digits()"
      ],
      "execution_count": null,
      "outputs": []
    },
    {
      "cell_type": "markdown",
      "metadata": {
        "id": "Q4-PAfGz9hjP"
      },
      "source": [
        "###**Seperate Features and Labels**"
      ]
    },
    {
      "cell_type": "code",
      "metadata": {
        "colab": {
          "base_uri": "https://localhost:8080/"
        },
        "id": "MRNMjkGm9mBQ",
        "outputId": "afc56ea1-a305-4485-c99d-9522d0646200"
      },
      "source": [
        "X = digits_data.images.reshape((len(digits_data.images), -1))\n",
        "y = digits_data.target\n",
        "\n",
        "print(X.shape)\n",
        "print(y.shape)"
      ],
      "execution_count": null,
      "outputs": [
        {
          "output_type": "stream",
          "text": [
            "(1797, 64)\n",
            "(1797,)\n"
          ],
          "name": "stdout"
        }
      ]
    },
    {
      "cell_type": "markdown",
      "metadata": {
        "id": "0g3zfAeu916O"
      },
      "source": [
        "###**Split the data into Train and Test Data**"
      ]
    },
    {
      "cell_type": "code",
      "metadata": {
        "id": "3tSix2Bx97b5"
      },
      "source": [
        "X_train, X_test, y_train, y_test = train_test_split(X, y, test_size = 0.3, random_state = 122)"
      ],
      "execution_count": null,
      "outputs": []
    },
    {
      "cell_type": "markdown",
      "metadata": {
        "id": "rpjvNJiD9_ep"
      },
      "source": [
        "###**Build the RFC model**\n",
        "\n",
        "We use `n_estimators = -1` for making available of all processes."
      ]
    },
    {
      "cell_type": "code",
      "metadata": {
        "id": "yOaoS8N1-Cop"
      },
      "source": [
        "model = RandomForestClassifier(n_estimators = -1, max_features = 'sqrt')"
      ],
      "execution_count": null,
      "outputs": []
    },
    {
      "cell_type": "markdown",
      "metadata": {
        "id": "ATBOGVg-FxlJ"
      },
      "source": [
        "###**Create Dictionary for Hyperparameter Tuning**"
      ]
    },
    {
      "cell_type": "code",
      "metadata": {
        "id": "t0dquqmyF268"
      },
      "source": [
        "param_grid = {\n",
        "    \"n_estimators\": [10, 100, 500, 1000],\n",
        "    \"max_depth\": [1, 5, 10, 15],\n",
        "    \"min_samples_leaf\": [1, 2, 4, 10, 15, 30, 50]\n",
        "}"
      ],
      "execution_count": null,
      "outputs": []
    },
    {
      "cell_type": "markdown",
      "metadata": {
        "id": "50dPrqfLGch8"
      },
      "source": [
        "###**Create a `GridSearchCV` Cross Validator**"
      ]
    },
    {
      "cell_type": "code",
      "metadata": {
        "id": "aEWniv_mGmz4"
      },
      "source": [
        "grid_search = GridSearchCV(estimator = model, param_grid = param_grid, cv = 10)"
      ],
      "execution_count": null,
      "outputs": []
    },
    {
      "cell_type": "markdown",
      "metadata": {
        "id": "Xovq6-bE-LA5"
      },
      "source": [
        "###**Train the model on Training data**\n",
        "\n",
        "Train the model on Training data and print the best parameters."
      ]
    },
    {
      "cell_type": "code",
      "metadata": {
        "colab": {
          "background_save": true,
          "base_uri": "https://localhost:8080/"
        },
        "id": "Jtohkl6o-Pe6",
        "outputId": "b42d279d-b3c9-4568-cf55-1c99f8b4f825"
      },
      "source": [
        "grid_search.fit(X_train, y_train)\n",
        "print(grid_search.best_params_)"
      ],
      "execution_count": null,
      "outputs": [
        {
          "output_type": "stream",
          "text": [
            "{'max_depth': 15, 'min_samples_leaf': 1, 'n_estimators': 500}\n"
          ],
          "name": "stdout"
        }
      ]
    },
    {
      "cell_type": "code",
      "metadata": {
        "colab": {
          "background_save": true,
          "base_uri": "https://localhost:8080/"
        },
        "id": "yyHYQewQHmwI",
        "outputId": "d5d0b1ed-aa29-40c8-8715-d02d05bee621"
      },
      "source": [
        "optimal_estimators = grid_search.best_params_.get(\"n_estimators\")\n",
        "optimal_depth = grid_search.best_params_.get(\"max_depth\")\n",
        "optimal_leaf = grid_search.best_params_.get(\"min_samples_leaf\")\n",
        "print(f\"Optimal n_estimators : {optimal_estimators}\")\n",
        "print(f\"Optimal optimal_depth : {optimal_depth}\")\n",
        "print(f\"Optimal optimal_leaf : {optimal_leaf}\")"
      ],
      "execution_count": null,
      "outputs": [
        {
          "output_type": "stream",
          "text": [
            "Optimal n_estimators : 500\n",
            "Optimal optimal_depth : 15\n",
            "Optimal optimal_leaf : 1\n"
          ],
          "name": "stdout"
        }
      ]
    },
    {
      "cell_type": "markdown",
      "metadata": {
        "id": "9JUbMusQ-bGo"
      },
      "source": [
        "###**Making predictions on Trained model**"
      ]
    },
    {
      "cell_type": "code",
      "metadata": {
        "colab": {
          "background_save": true
        },
        "id": "Hc07Ez7J-gKq"
      },
      "source": [
        "grid_predictions = grid_search.predict(X_test)"
      ],
      "execution_count": null,
      "outputs": []
    },
    {
      "cell_type": "markdown",
      "metadata": {
        "id": "Yw1c56NZ-sCZ"
      },
      "source": [
        "###**Measuring the performance of the model**"
      ]
    },
    {
      "cell_type": "code",
      "metadata": {
        "colab": {
          "background_save": true,
          "base_uri": "https://localhost:8080/"
        },
        "id": "PMDrSn5N-9rZ",
        "outputId": "988ae134-65c5-4172-e94a-0e4c5a1a37c0"
      },
      "source": [
        "print(confusion_matrix(y_test, grid_predictions))\n",
        "acc = f\"{round(accuracy_score(y_test, grid_predictions)*100,2)}%\"\n",
        "print(acc)"
      ],
      "execution_count": null,
      "outputs": [
        {
          "output_type": "stream",
          "text": [
            "[[65  0  0  0  0  0  0  0  0  0]\n",
            " [ 0 47  0  0  0  0  0  0  0  0]\n",
            " [ 1  0 54  0  0  0  0  0  0  0]\n",
            " [ 0  0  0 56  0  1  0  0  0  1]\n",
            " [ 0  0  0  0 57  0  0  1  0  0]\n",
            " [ 0  0  0  0  1 56  1  0  0  0]\n",
            " [ 1  0  0  0  0  1 57  0  0  0]\n",
            " [ 0  0  0  0  0  0  0 48  0  0]\n",
            " [ 0  2  0  0  1  0  0  0 41  0]\n",
            " [ 0  0  0  0  0  0  0  0  1 47]]\n",
            "97.78%\n"
          ],
          "name": "stdout"
        }
      ]
    },
    {
      "cell_type": "code",
      "metadata": {
        "colab": {
          "background_save": true
        },
        "id": "NjIpP5nYM8AP"
      },
      "source": [
        "# save the model to disk\n",
        "file_name = f\"OCR_RFC_max_depth-{optimal_depth}_min_samples_leaf-{optimal_leaf}_n_estimators-{optimal_estimators}_acc-{acc}.sav\"\n",
        "pickle.dump(model, open(file_name, 'wb'))"
      ],
      "execution_count": null,
      "outputs": []
    }
  ]
}